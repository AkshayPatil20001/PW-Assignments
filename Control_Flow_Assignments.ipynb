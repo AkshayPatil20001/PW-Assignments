{
 "cells": [
  {
   "cell_type": "markdown",
   "id": "f3380aec-5d65-4fdc-9115-affe37ee75ce",
   "metadata": {},
   "source": [
    "## Basic If-Else Statements:"
   ]
  },
  {
   "cell_type": "markdown",
   "id": "acf1c210-9c0a-41a4-992c-52aa0406542a",
   "metadata": {},
   "source": [
    "### 1. Write a Python program to check if a given number is positive or negative."
   ]
  },
  {
   "cell_type": "code",
   "execution_count": 12,
   "id": "325d7262-3307-4f83-8f6b-19948d2e5ee7",
   "metadata": {},
   "outputs": [
    {
     "name": "stdin",
     "output_type": "stream",
     "text": [
      "Enter a number:  7\n"
     ]
    },
    {
     "name": "stdout",
     "output_type": "stream",
     "text": [
      "Positive number\n"
     ]
    }
   ],
   "source": [
    "# 1. Check if a given number is positive or negative\n",
    "num = float(input(\"Enter a number: \"))\n",
    "if num > 0:\n",
    "    print(\"Positive number\")\n",
    "elif num < 0:\n",
    "    print(\"Negative number\")\n",
    "else:\n",
    "    print(\"Zero\")\n",
    "\n",
    "\n"
   ]
  },
  {
   "cell_type": "markdown",
   "id": "1b29a27c-b16f-496d-a438-be74cf61491f",
   "metadata": {},
   "source": [
    "### 2. Create a program that determines if a person is eligible to vote based on their age."
   ]
  },
  {
   "cell_type": "code",
   "execution_count": 14,
   "id": "9372b680-b817-4a22-9dde-ff4211730622",
   "metadata": {},
   "outputs": [
    {
     "name": "stdin",
     "output_type": "stream",
     "text": [
      "Enter your age:  99\n"
     ]
    },
    {
     "name": "stdout",
     "output_type": "stream",
     "text": [
      "Eligible to vote\n"
     ]
    }
   ],
   "source": [
    "# 2. Determine if a person is eligible to vote\n",
    "age = int(input(\"Enter your age: \"))\n",
    "if age >= 18:\n",
    "    print(\"Eligible to vote\")\n",
    "else:\n",
    "    print(\"Not eligible to vote\")\n",
    "\n"
   ]
  },
  {
   "cell_type": "markdown",
   "id": "2933edc3-49aa-44bb-97d6-94e3730a9a9e",
   "metadata": {},
   "source": [
    "### 3. Develop a program to find the maximum of two numbers using if-else statements."
   ]
  },
  {
   "cell_type": "code",
   "execution_count": 18,
   "id": "9260decc-3085-437c-8502-346475918dad",
   "metadata": {},
   "outputs": [
    {
     "name": "stdin",
     "output_type": "stream",
     "text": [
      "Enter first number:  7\n",
      "Enter second number:  9\n"
     ]
    },
    {
     "name": "stdout",
     "output_type": "stream",
     "text": [
      "Maximum: 9\n"
     ]
    }
   ],
   "source": [
    "# 3. Find the maximum of two numbers\n",
    "a = int(input(\"Enter first number: \"))\n",
    "b = int(input(\"Enter second number: \"))\n",
    "if a > b:\n",
    "    print(\"Maximum:\", a)\n",
    "else:\n",
    "    print(\"Maximum:\", b)\n"
   ]
  },
  {
   "cell_type": "markdown",
   "id": "c86b1822-c82f-4a6d-aa13-d7d6128dbdb7",
   "metadata": {},
   "source": [
    "### 4. Write a Python script to classify a given year as a leap year or not."
   ]
  },
  {
   "cell_type": "code",
   "execution_count": 20,
   "id": "b8653940-63ae-48db-848b-03c3c2778e41",
   "metadata": {},
   "outputs": [
    {
     "name": "stdin",
     "output_type": "stream",
     "text": [
      "Enter a year:  4578\n"
     ]
    },
    {
     "name": "stdout",
     "output_type": "stream",
     "text": [
      "4578 is not a leap year\n"
     ]
    }
   ],
   "source": [
    "\n",
    "# 4. Check if a year is a leap year\n",
    "year = int(input(\"Enter a year: \"))\n",
    "if (year % 4 == 0 and year % 100 != 0) or (year % 400 == 0):\n",
    "    print(year, \"is a leap year\")\n",
    "else:\n",
    "    print(year, \"is not a leap year\")\n"
   ]
  },
  {
   "cell_type": "markdown",
   "id": "4134d895-f6d1-47e8-9925-30bbf74bbd2d",
   "metadata": {},
   "source": [
    "### 5. Create a program that checks whether a character is a vowel or a consonant."
   ]
  },
  {
   "cell_type": "code",
   "execution_count": 22,
   "id": "29bba3b4-56da-49b3-85de-d42b33ccdea8",
   "metadata": {},
   "outputs": [
    {
     "name": "stdin",
     "output_type": "stream",
     "text": [
      "Enter a character:  y\n"
     ]
    },
    {
     "name": "stdout",
     "output_type": "stream",
     "text": [
      "Consonant\n"
     ]
    }
   ],
   "source": [
    "\n",
    "# 5. Check if a character is a vowel or consonant\n",
    "char = input(\"Enter a character: \").lower()\n",
    "if char in 'aeiou':\n",
    "    print(\"Vowel\")\n",
    "elif char.isalpha():\n",
    "    print(\"Consonant\")\n",
    "else:\n",
    "    print(\"Not a letter\")\n"
   ]
  },
  {
   "cell_type": "markdown",
   "id": "4a7ea900-a559-4353-8af8-84a9257842c4",
   "metadata": {},
   "source": [
    "### 6. Implement a program to determine whether a given number is even or odd."
   ]
  },
  {
   "cell_type": "code",
   "execution_count": 24,
   "id": "0163fddf-f72d-480d-a809-b616b1552a75",
   "metadata": {},
   "outputs": [
    {
     "name": "stdin",
     "output_type": "stream",
     "text": [
      "Enter a number:  44\n"
     ]
    },
    {
     "name": "stdout",
     "output_type": "stream",
     "text": [
      "Even\n"
     ]
    }
   ],
   "source": [
    "\n",
    "# 6. Check if a number is even or odd\n",
    "num = int(input(\"Enter a number: \"))\n",
    "if num % 2 == 0:\n",
    "    print(\"Even\")\n",
    "else:\n",
    "    print(\"Odd\")\n",
    "\n"
   ]
  },
  {
   "cell_type": "markdown",
   "id": "638eaa1b-587c-4d8d-a11b-107f366b4c6e",
   "metadata": {},
   "source": [
    "### 7. Write a Python function to calculate the absolute value of a number without using the `abs()` function."
   ]
  },
  {
   "cell_type": "code",
   "execution_count": 26,
   "id": "55ee2078-b9d5-40c8-b63e-a5ee60cdbe33",
   "metadata": {},
   "outputs": [
    {
     "name": "stdin",
     "output_type": "stream",
     "text": [
      "Enter a number:  3.34\n"
     ]
    },
    {
     "name": "stdout",
     "output_type": "stream",
     "text": [
      "Absolute value: 3.34\n"
     ]
    }
   ],
   "source": [
    "# 7. Calculate the absolute value of a number\n",
    "num = float(input(\"Enter a number: \"))\n",
    "if num >= 0:\n",
    "    print(\"Absolute value:\", num)\n",
    "else:\n",
    "    print(\"Absolute value:\", -num)\n"
   ]
  },
  {
   "cell_type": "markdown",
   "id": "99ad1996-2698-42ca-9969-a544b7c95703",
   "metadata": {},
   "source": [
    "### 8. Develop a program that determines the largest of three given numbers using if-else statements."
   ]
  },
  {
   "cell_type": "code",
   "execution_count": 28,
   "id": "5e9a02e6-a75a-407d-9ca1-1129682e7491",
   "metadata": {},
   "outputs": [
    {
     "name": "stdin",
     "output_type": "stream",
     "text": [
      "Enter first number:  2\n",
      "Enter second number:  35\n",
      "Enter third number:  54\n"
     ]
    },
    {
     "name": "stdout",
     "output_type": "stream",
     "text": [
      "Largest: 54\n"
     ]
    }
   ],
   "source": [
    "\n",
    "# 8. Find the largest of three numbers\n",
    "a = int(input(\"Enter first number: \"))\n",
    "b = int(input(\"Enter second number: \"))\n",
    "c = int(input(\"Enter third number: \"))\n",
    "if a >= b and a >= c:\n",
    "    print(\"Largest:\", a)\n",
    "elif b >= a and b >= c:\n",
    "    print(\"Largest:\", b)\n",
    "else:\n",
    "    print(\"Largest:\", c)\n"
   ]
  },
  {
   "cell_type": "markdown",
   "id": "4953f342-69e9-4ce3-b3b8-7652778c6547",
   "metadata": {},
   "source": [
    "### 9. Create a program that checks if a given string is a palindrome"
   ]
  },
  {
   "cell_type": "code",
   "execution_count": 30,
   "id": "6480667a-4bdd-4dcf-a46b-15556c4a0481",
   "metadata": {},
   "outputs": [
    {
     "name": "stdin",
     "output_type": "stream",
     "text": [
      "Enter a string:  pqrts\n"
     ]
    },
    {
     "name": "stdout",
     "output_type": "stream",
     "text": [
      "Not a palindrome\n"
     ]
    }
   ],
   "source": [
    "\n",
    "# 9. Check if a string is a palindrome\n",
    "string = input(\"Enter a string: \").lower()\n",
    "if string == string[::-1]:\n",
    "    print(\"Palindrome\")\n",
    "else:\n",
    "    print(\"Not a palindrome\")\n"
   ]
  },
  {
   "cell_type": "markdown",
   "id": "9af1cccb-b86a-41d3-a77f-ea231abaedea",
   "metadata": {},
   "source": [
    "### 10. Write a Python program to calculate the grade based on a student's score"
   ]
  },
  {
   "cell_type": "code",
   "execution_count": 32,
   "id": "308f9bbf-013a-4ec5-bc84-72b0e74421a1",
   "metadata": {},
   "outputs": [
    {
     "name": "stdin",
     "output_type": "stream",
     "text": [
      "Enter score:  44\n"
     ]
    },
    {
     "name": "stdout",
     "output_type": "stream",
     "text": [
      "Grade: F\n"
     ]
    }
   ],
   "source": [
    "\n",
    "# 10. Calculate grade based on score\n",
    "score = float(input(\"Enter score: \"))\n",
    "if score >= 90:\n",
    "    print(\"Grade: A\")\n",
    "elif score >= 80:\n",
    "    print(\"Grade: B\")\n",
    "elif score >= 70:\n",
    "    print(\"Grade: C\")\n",
    "elif score >= 60:\n",
    "    print(\"Grade: D\")\n",
    "else:\n",
    "    print(\"Grade: F\")"
   ]
  },
  {
   "cell_type": "markdown",
   "id": "ebc9718c-f465-465e-844c-2fe4fdf61168",
   "metadata": {},
   "source": [
    "## Nested If-Else Statements:"
   ]
  },
  {
   "cell_type": "markdown",
   "id": "8c6069f2-222d-4ef9-8a91-1a9f49133724",
   "metadata": {
    "jp-MarkdownHeadingCollapsed": true
   },
   "source": [
    "### 11. Write a program to find the largest among three numbers using nested if-else statements."
   ]
  },
  {
   "cell_type": "code",
   "execution_count": 49,
   "id": "1bec8bfc-f58c-4407-9083-e2abbe5ec913",
   "metadata": {},
   "outputs": [
    {
     "name": "stdin",
     "output_type": "stream",
     "text": [
      "Enter first number:  345\n",
      "Enter second number:  534\n",
      "Enter third number:  3654\n"
     ]
    },
    {
     "name": "stdout",
     "output_type": "stream",
     "text": [
      "Largest: 3654\n"
     ]
    }
   ],
   "source": [
    "# 11. Find the largest among three numbers using nested if-else\n",
    "a = int(input(\"Enter first number: \"))\n",
    "b = int(input(\"Enter second number: \"))\n",
    "c = int(input(\"Enter third number: \"))\n",
    "\n",
    "if a >= b:\n",
    "    if a >= c:\n",
    "        print(\"Largest:\", a)\n",
    "    else:\n",
    "        print(\"Largest:\", c)\n",
    "else:\n",
    "    if b >= c:\n",
    "        print(\"Largest:\", b)\n",
    "    else:\n",
    "        print(\"Largest:\", c)\n",
    "\n"
   ]
  },
  {
   "cell_type": "markdown",
   "id": "a551628c-1ede-4f50-b957-d93f193e31ac",
   "metadata": {},
   "source": [
    "### 12. Implement a program to determine if a triangle is equilateral, isosceles, or scalene."
   ]
  },
  {
   "cell_type": "code",
   "execution_count": 51,
   "id": "e45c2ed7-ddaa-4750-903c-0d4aaa42120d",
   "metadata": {},
   "outputs": [
    {
     "name": "stdin",
     "output_type": "stream",
     "text": [
      "Enter first side:  90\n",
      "Enter second side:  90\n",
      "Enter third side:  90\n"
     ]
    },
    {
     "name": "stdout",
     "output_type": "stream",
     "text": [
      "Equilateral Triangle\n"
     ]
    }
   ],
   "source": [
    "\n",
    "# 12. Determine the type of triangle\n",
    "side1 = int(input(\"Enter first side: \"))\n",
    "side2 = int(input(\"Enter second side: \"))\n",
    "side3 = int(input(\"Enter third side: \"))\n",
    "\n",
    "if side1 == side2 == side3:\n",
    "    print(\"Equilateral Triangle\")\n",
    "elif side1 == side2 or side1 == side3 or side2 == side3:\n",
    "    print(\"Isosceles Triangle\")\n",
    "else:\n",
    "    print(\"Scalene Triangle\")\n",
    "\n"
   ]
  },
  {
   "cell_type": "markdown",
   "id": "1f6c0465-5ac7-4360-b5f3-f0d20b7e2dec",
   "metadata": {},
   "source": [
    "### 13. Develop a program that checks if a year is a leap year and also if it is a century year."
   ]
  },
  {
   "cell_type": "code",
   "execution_count": 53,
   "id": "9fc7aa32-0fd7-4c04-b523-69f3aa9ac6be",
   "metadata": {},
   "outputs": [
    {
     "name": "stdin",
     "output_type": "stream",
     "text": [
      "Enter a year:  2023\n"
     ]
    },
    {
     "name": "stdout",
     "output_type": "stream",
     "text": [
      "2023 is not a leap year\n"
     ]
    }
   ],
   "source": [
    "# 13. Check if a year is a leap year and also a century year\n",
    "year = int(input(\"Enter a year: \"))\n",
    "if year % 4 == 0:\n",
    "    if year % 100 == 0:\n",
    "        if year % 400 == 0:\n",
    "            print(year, \"is a leap year and a century year\")\n",
    "        else:\n",
    "            print(year, \"is a century year but not a leap year\")\n",
    "    else:\n",
    "        print(year, \"is a leap year\")\n",
    "else:\n",
    "    print(year, \"is not a leap year\")\n",
    "\n"
   ]
  },
  {
   "cell_type": "markdown",
   "id": "31892c9d-0477-47db-80c1-66249e456664",
   "metadata": {},
   "source": [
    "### 14. Write a Python script to determine if a number is positive, negative, or zero."
   ]
  },
  {
   "cell_type": "code",
   "execution_count": 61,
   "id": "efde0bbf-5cdf-4b78-a0fa-bbeaf0096b3b",
   "metadata": {},
   "outputs": [
    {
     "name": "stdin",
     "output_type": "stream",
     "text": [
      "Enter a number:  -324\n"
     ]
    },
    {
     "name": "stdout",
     "output_type": "stream",
     "text": [
      "Negative\n"
     ]
    }
   ],
   "source": [
    "# 14. Determine if a number is positive, negative, or zero\n",
    "num = float(input(\"Enter a number: \"))\n",
    "if num > 0:\n",
    "    print(\"Positive\")\n",
    "elif num < 0:\n",
    "    print(\"Negative\")\n",
    "else:\n",
    "    print(\"Zero\")\n"
   ]
  },
  {
   "cell_type": "markdown",
   "id": "6072cb0d-2a1f-464b-ac90-1d67061f4194",
   "metadata": {},
   "source": [
    "### 15. Create a program to check if a person is a teenager (between 13 and 19 years old)."
   ]
  },
  {
   "cell_type": "code",
   "execution_count": 57,
   "id": "5d71c090-31b9-49b7-8325-81bdb258f460",
   "metadata": {},
   "outputs": [
    {
     "name": "stdin",
     "output_type": "stream",
     "text": [
      "Enter age:  14\n"
     ]
    },
    {
     "name": "stdout",
     "output_type": "stream",
     "text": [
      "Teenager\n"
     ]
    }
   ],
   "source": [
    "\n",
    "# 15. Check if a person is a teenager\n",
    "age = int(input(\"Enter age: \"))\n",
    "if age >= 13:\n",
    "    if age <= 19:\n",
    "        print(\"Teenager\")\n",
    "    else:\n",
    "        print(\"Not a teenager\")\n",
    "else:\n",
    "    print(\"Not a teenager\")\n"
   ]
  },
  {
   "cell_type": "markdown",
   "id": "d0a3e8d3-5bf4-4eb6-a8c1-d550d4c4b3f1",
   "metadata": {},
   "source": [
    "### 16. Develop a program that determines the type of angle based on its measure (acute, obtuse, or right)."
   ]
  },
  {
   "cell_type": "code",
   "execution_count": 63,
   "id": "28c023d0-3e4a-484b-aa54-5f860d55b681",
   "metadata": {},
   "outputs": [
    {
     "name": "stdin",
     "output_type": "stream",
     "text": [
      "Enter angle in degrees:  80\n"
     ]
    },
    {
     "name": "stdout",
     "output_type": "stream",
     "text": [
      "Acute Angle\n"
     ]
    }
   ],
   "source": [
    "\n",
    "# 16. Determine the type of angle\n",
    "angle = int(input(\"Enter angle in degrees: \"))\n",
    "if angle > 0 and angle < 90:\n",
    "    print(\"Acute Angle\")\n",
    "elif angle == 90:\n",
    "    print(\"Right Angle\")\n",
    "elif angle > 90 and angle < 180:\n",
    "    print(\"Obtuse Angle\")\n",
    "else:\n",
    "    print(\"Invalid or Straight Angle\")\n"
   ]
  },
  {
   "cell_type": "markdown",
   "id": "dfcba814-249a-4b91-93c9-004e3e2b7cd2",
   "metadata": {},
   "source": [
    "### 17. Write a Python program to calculate the roots of a quadratic equation."
   ]
  },
  {
   "cell_type": "code",
   "execution_count": 65,
   "id": "d893c482-0a60-44aa-bb03-9f2835cca4ca",
   "metadata": {},
   "outputs": [
    {
     "name": "stdin",
     "output_type": "stream",
     "text": [
      "Enter coefficient a:  34\n",
      "Enter coefficient b:  2\n",
      "Enter coefficient c:  23\n"
     ]
    },
    {
     "name": "stdout",
     "output_type": "stream",
     "text": [
      "No Real Roots, Complex Roots Exist\n"
     ]
    }
   ],
   "source": [
    "\n",
    "# 17. Calculate the roots of a quadratic equation\n",
    "import math\n",
    "a = float(input(\"Enter coefficient a: \"))\n",
    "b = float(input(\"Enter coefficient b: \"))\n",
    "c = float(input(\"Enter coefficient c: \"))\n",
    "\n",
    "discriminant = b**2 - 4*a*c\n",
    "if discriminant > 0:\n",
    "    root1 = (-b + math.sqrt(discriminant)) / (2*a)\n",
    "    root2 = (-b - math.sqrt(discriminant)) / (2*a)\n",
    "    print(\"Real and Distinct Roots:\", root1, \"and\", root2)\n",
    "elif discriminant == 0:\n",
    "    root = -b / (2*a)\n",
    "    print(\"Real and Equal Roots:\", root)\n",
    "else:\n",
    "    print(\"No Real Roots, Complex Roots Exist\")\n"
   ]
  },
  {
   "cell_type": "markdown",
   "id": "988e6b81-e7d7-4caa-91b8-c4626221cd73",
   "metadata": {},
   "source": [
    "### 18. Implement a program to determine the day of the week based on a user-provided number (1 for Monday, 2 for Tuesday, etc.)."
   ]
  },
  {
   "cell_type": "code",
   "execution_count": 67,
   "id": "f92f2929-67a8-4101-98fe-5081f8018e83",
   "metadata": {},
   "outputs": [
    {
     "name": "stdin",
     "output_type": "stream",
     "text": [
      "Enter a number (1-7):  4\n"
     ]
    },
    {
     "name": "stdout",
     "output_type": "stream",
     "text": [
      "Thursday\n"
     ]
    }
   ],
   "source": [
    "\n",
    "# 18. Determine the day of the week\n",
    "day = int(input(\"Enter a number (1-7): \"))\n",
    "if day == 1:\n",
    "    print(\"Monday\")\n",
    "elif day == 2:\n",
    "    print(\"Tuesday\")\n",
    "elif day == 3:\n",
    "    print(\"Wednesday\")\n",
    "elif day == 4:\n",
    "    print(\"Thursday\")\n",
    "elif day == 5:\n",
    "    print(\"Friday\")\n",
    "elif day == 6:\n",
    "    print(\"Saturday\")\n",
    "elif day == 7:\n",
    "    print(\"Sunday\")\n",
    "else:\n",
    "    print(\"Invalid input! Enter a number between 1 and 7.\")\n"
   ]
  },
  {
   "cell_type": "markdown",
   "id": "5955133a-c767-4c1e-ac41-ca610f1f5bbf",
   "metadata": {},
   "source": [
    "### 19. Create a program that determines if a year is a leap year and also if it is evenly divisible by 400."
   ]
  },
  {
   "cell_type": "code",
   "execution_count": 71,
   "id": "0ff2a06c-a1bd-4bca-808e-6ef09e172665",
   "metadata": {},
   "outputs": [
    {
     "name": "stdin",
     "output_type": "stream",
     "text": [
      "Enter a year:  2024\n"
     ]
    },
    {
     "name": "stdout",
     "output_type": "stream",
     "text": [
      "2024 is a leap year\n"
     ]
    }
   ],
   "source": [
    "\n",
    "# 19. Check if a year is a leap year and divisible by 400\n",
    "year = int(input(\"Enter a year: \"))\n",
    "if year % 4 == 0:\n",
    "    if year % 100 == 0:\n",
    "        if year % 400 == 0:\n",
    "            print(year, \"is a leap year and divisible by 400\")\n",
    "        else:\n",
    "            print(year, \"is not divisible by 400 but is a century year\")\n",
    "    else:\n",
    "        print(year, \"is a leap year\")\n",
    "else:\n",
    "    print(year, \"is not a leap year\")\n",
    "\n"
   ]
  },
  {
   "cell_type": "markdown",
   "id": "efcbfd0b-a566-4115-9177-bdb3a25dd831",
   "metadata": {},
   "source": [
    "### 20. Develop a program that checks if a given number is prime or not using nested if-else statements."
   ]
  },
  {
   "cell_type": "code",
   "execution_count": 73,
   "id": "862ec039-da85-4b1e-8e40-cdef963a0aa1",
   "metadata": {},
   "outputs": [
    {
     "name": "stdin",
     "output_type": "stream",
     "text": [
      "Enter a number:  7\n"
     ]
    },
    {
     "name": "stdout",
     "output_type": "stream",
     "text": [
      "7 is a prime number\n"
     ]
    }
   ],
   "source": [
    "# 20. Check if a number is prime\n",
    "num = int(input(\"Enter a number: \"))\n",
    "if num > 1:\n",
    "    is_prime = True\n",
    "    for i in range(2, int(math.sqrt(num)) + 1):\n",
    "        if num % i == 0:\n",
    "            is_prime = False\n",
    "            break\n",
    "    if is_prime:\n",
    "        print(num, \"is a prime number\")\n",
    "    else:\n",
    "        print(num, \"is not a prime number\")\n",
    "else:\n",
    "    print(num, \"is not a prime number\")"
   ]
  },
  {
   "cell_type": "markdown",
   "id": "d1b70110-3abd-474f-98e4-64f01a549f38",
   "metadata": {},
   "source": [
    "## Elif Statements:"
   ]
  },
  {
   "cell_type": "markdown",
   "id": "d94792d0-3662-4d74-a4a2-40ed28428a23",
   "metadata": {},
   "source": [
    "### 21. Write a Python program to assign grades based on different ranges of scores using elif statements."
   ]
  },
  {
   "cell_type": "code",
   "execution_count": 87,
   "id": "fb3d12ea-a800-4f50-a761-ed7d2cae57bf",
   "metadata": {},
   "outputs": [
    {
     "name": "stdin",
     "output_type": "stream",
     "text": [
      "Enter score:  55\n"
     ]
    },
    {
     "name": "stdout",
     "output_type": "stream",
     "text": [
      "Grade: F\n"
     ]
    }
   ],
   "source": [
    "# 21. Assign grades based on score ranges\n",
    "score = float(input(\"Enter score: \"))\n",
    "if score >= 90:\n",
    "    print(\"Grade: A\")\n",
    "elif score >= 80:\n",
    "    print(\"Grade: B\")\n",
    "elif score >= 70:\n",
    "    print(\"Grade: C\")\n",
    "elif score >= 60:\n",
    "    print(\"Grade: D\")\n",
    "else:\n",
    "    print(\"Grade: F\")"
   ]
  },
  {
   "cell_type": "markdown",
   "id": "d0293484-4bdc-41db-9105-9e1178a06b21",
   "metadata": {},
   "source": [
    "### 22. Implement a program to determine the type of a triangle based on its angles."
   ]
  },
  {
   "cell_type": "code",
   "execution_count": 89,
   "id": "d2a59991-3640-446d-9d7c-cffdb16307ec",
   "metadata": {},
   "outputs": [
    {
     "name": "stdin",
     "output_type": "stream",
     "text": [
      "Enter first angle:  45\n",
      "Enter second angle:  75\n",
      "Enter third angle:  90\n"
     ]
    },
    {
     "name": "stdout",
     "output_type": "stream",
     "text": [
      "Not a valid triangle\n"
     ]
    }
   ],
   "source": [
    "# 22. Determine the type of triangle based on angles\n",
    "angle1 = int(input(\"Enter first angle: \"))\n",
    "angle2 = int(input(\"Enter second angle: \"))\n",
    "angle3 = int(input(\"Enter third angle: \"))\n",
    "\n",
    "if angle1 + angle2 + angle3 == 180:\n",
    "    if angle1 == 90 or angle2 == 90 or angle3 == 90:\n",
    "        print(\"Right Triangle\")\n",
    "    elif angle1 < 90 and angle2 < 90 and angle3 < 90:\n",
    "        print(\"Acute Triangle\")\n",
    "    else:\n",
    "        print(\"Obtuse Triangle\")\n",
    "else:\n",
    "    print(\"Not a valid triangle\")\n",
    "\n"
   ]
  },
  {
   "cell_type": "markdown",
   "id": "703b6216-37e4-4349-a10d-b336a3ab31ab",
   "metadata": {},
   "source": [
    "### 23. Develop a program to categorize a given person's BMI into underweight, normal, overweight, or obese using elif statements."
   ]
  },
  {
   "cell_type": "code",
   "execution_count": 91,
   "id": "dbcef2d7-209b-4c24-b65d-8628c89fcde1",
   "metadata": {},
   "outputs": [
    {
     "name": "stdin",
     "output_type": "stream",
     "text": [
      "Enter BMI:  224356\n"
     ]
    },
    {
     "name": "stdout",
     "output_type": "stream",
     "text": [
      "Obese\n"
     ]
    }
   ],
   "source": [
    "# 23. Categorize BMI\n",
    "bmi = float(input(\"Enter BMI: \"))\n",
    "if bmi < 18.5:\n",
    "    print(\"Underweight\")\n",
    "elif bmi < 24.9:\n",
    "    print(\"Normal weight\")\n",
    "elif bmi < 29.9:\n",
    "    print(\"Overweight\")\n",
    "else:\n",
    "    print(\"Obese\")\n",
    "\n",
    "\n"
   ]
  },
  {
   "cell_type": "markdown",
   "id": "0034582e-e520-4739-bb50-edbb36c4ce13",
   "metadata": {},
   "source": [
    "### 24. Create a program that determines whether a given number is positive, negative, or zero using elif statements."
   ]
  },
  {
   "cell_type": "code",
   "execution_count": 93,
   "id": "d653a58f-bf46-4343-a32c-8aea382e5c40",
   "metadata": {},
   "outputs": [
    {
     "name": "stdin",
     "output_type": "stream",
     "text": [
      "Enter a number:  34\n"
     ]
    },
    {
     "name": "stdout",
     "output_type": "stream",
     "text": [
      "Positive\n"
     ]
    }
   ],
   "source": [
    "# 24. Determine if a number is positive, negative, or zero\n",
    "num = float(input(\"Enter a number: \"))\n",
    "if num > 0:\n",
    "    print(\"Positive\")\n",
    "elif num < 0:\n",
    "    print(\"Negative\")\n",
    "else:\n",
    "    print(\"Zero\")\n",
    "    \n",
    "\n"
   ]
  },
  {
   "cell_type": "markdown",
   "id": "d93c7448-5484-4690-82dd-7196abfa864f",
   "metadata": {},
   "source": [
    "### 25. Write a Python script to determine the type of a character (uppercase, lowercase, or special) using elif statements."
   ]
  },
  {
   "cell_type": "code",
   "execution_count": 95,
   "id": "88a01b85-883d-4280-99fc-c80e728c62f7",
   "metadata": {},
   "outputs": [
    {
     "name": "stdin",
     "output_type": "stream",
     "text": [
      "Enter a character:  @$\n"
     ]
    },
    {
     "name": "stdout",
     "output_type": "stream",
     "text": [
      "Special Character\n"
     ]
    }
   ],
   "source": [
    "# 25. Determine the type of character\n",
    "char = input(\"Enter a character: \")\n",
    "if char.isupper():\n",
    "    print(\"Uppercase Letter\")\n",
    "elif char.islower():\n",
    "    print(\"Lowercase Letter\")\n",
    "elif char.isdigit():\n",
    "    print(\"Digit\")\n",
    "else:\n",
    "    print(\"Special Character\")\n"
   ]
  },
  {
   "cell_type": "markdown",
   "id": "3eaa6d5d-6ef5-4ba7-9680-fa641b957c31",
   "metadata": {},
   "source": [
    "### 26. Implement a program to calculate the discounted price based on different purchase amounts using elif statements."
   ]
  },
  {
   "cell_type": "code",
   "execution_count": 97,
   "id": "c288dcc2-186d-4053-936e-615937c006b8",
   "metadata": {},
   "outputs": [
    {
     "name": "stdin",
     "output_type": "stream",
     "text": [
      "Enter purchase amount:  33547\n"
     ]
    },
    {
     "name": "stdout",
     "output_type": "stream",
     "text": [
      "Final price after discount: $26837.60\n"
     ]
    }
   ],
   "source": [
    "\n",
    "# 26. Calculate discounted price based on purchase amount\n",
    "amount = float(input(\"Enter purchase amount: \"))\n",
    "if amount >= 1000:\n",
    "    discount = 0.2  # 20% discount\n",
    "elif amount >= 500:\n",
    "    discount = 0.1  # 10% discount\n",
    "else:\n",
    "    discount = 0.05  # 5% discount\n",
    "final_price = amount - (amount * discount)\n",
    "print(f\"Final price after discount: ${final_price:.2f}\")\n"
   ]
  },
  {
   "cell_type": "markdown",
   "id": "8cbf2df2-7af4-450f-b63b-4506bd7c7c46",
   "metadata": {},
   "source": [
    "### 27. Develop a program to calculate the electricity bill based on different consumption slabs using elif statements."
   ]
  },
  {
   "cell_type": "code",
   "execution_count": 99,
   "id": "43e129a7-7a86-4e5d-aaa8-1f8556b9b6ea",
   "metadata": {},
   "outputs": [
    {
     "name": "stdin",
     "output_type": "stream",
     "text": [
      "Enter electricity units consumed:  4936\n"
     ]
    },
    {
     "name": "stdout",
     "output_type": "stream",
     "text": [
      "Electricity bill: $23330.00\n"
     ]
    }
   ],
   "source": [
    "\n",
    "# 27. Calculate electricity bill based on consumption slabs\n",
    "units = int(input(\"Enter electricity units consumed: \"))\n",
    "if units <= 100:\n",
    "    bill = units * 1.5\n",
    "elif units <= 300:\n",
    "    bill = 100 * 1.5 + (units - 100) * 2\n",
    "elif units <= 500:\n",
    "    bill = 100 * 1.5 + 200 * 2 + (units - 300) * 3\n",
    "else:\n",
    "    bill = 100 * 1.5 + 200 * 2 + 200 * 3 + (units - 500) * 5\n",
    "print(f\"Electricity bill: ${bill:.2f}\")\n"
   ]
  },
  {
   "cell_type": "markdown",
   "id": "d08be24a-df53-4786-896b-03334b26eba0",
   "metadata": {},
   "source": [
    "### 28. Create a program to determine the type of quadrilateral based on its angles and sides using elif statements."
   ]
  },
  {
   "cell_type": "code",
   "execution_count": 101,
   "id": "9cc2ca19-7153-4987-a57d-0e11a738e463",
   "metadata": {},
   "outputs": [
    {
     "name": "stdin",
     "output_type": "stream",
     "text": [
      "Enter four sides separated by space:  235 2 24 242\n",
      "Enter four angles separated by space:  45 54 55 65\n"
     ]
    },
    {
     "name": "stdout",
     "output_type": "stream",
     "text": [
      "Not a valid quadrilateral\n"
     ]
    }
   ],
   "source": [
    "\n",
    "# 28. Determine the type of quadrilateral\n",
    "sides = list(map(int, input(\"Enter four sides separated by space: \").split()))\n",
    "angles = list(map(int, input(\"Enter four angles separated by space: \").split()))\n",
    "\n",
    "if len(set(sides)) == 1 and len(set(angles)) == 1 and sum(angles) == 360:\n",
    "    print(\"Square\")\n",
    "elif len(set(sides)) == 2 and len(set(angles)) == 1 and sum(angles) == 360:\n",
    "    print(\"Rectangle\")\n",
    "elif sum(angles) == 360:\n",
    "    print(\"Quadrilateral\")\n",
    "else:\n",
    "    print(\"Not a valid quadrilateral\")\n",
    "\n"
   ]
  },
  {
   "cell_type": "markdown",
   "id": "ca04948b-bbee-4b53-842f-5b4c5a8c9b66",
   "metadata": {},
   "source": [
    "### 29. Write a Python script to determine the season based on a user-provided month using elif statements."
   ]
  },
  {
   "cell_type": "code",
   "execution_count": 103,
   "id": "dbc0396d-5359-4423-8b33-a58b0dc5fa84",
   "metadata": {},
   "outputs": [
    {
     "name": "stdin",
     "output_type": "stream",
     "text": [
      "Enter month name:  may\n"
     ]
    },
    {
     "name": "stdout",
     "output_type": "stream",
     "text": [
      "Spring\n"
     ]
    }
   ],
   "source": [
    "# 29. Determine season based on month\n",
    "month = input(\"Enter month name: \").lower()\n",
    "if month in ['december', 'january', 'february']:\n",
    "    print(\"Winter\")\n",
    "elif month in ['march', 'april', 'may']:\n",
    "    print(\"Spring\")\n",
    "elif month in ['june', 'july', 'august']:\n",
    "    print(\"Summer\")\n",
    "elif month in ['september', 'october', 'november']:\n",
    "    print(\"Autumn\")\n",
    "else:\n",
    "    print(\"Invalid month\")\n"
   ]
  },
  {
   "cell_type": "markdown",
   "id": "d3488f81-bd66-4558-9876-37a121f98be7",
   "metadata": {},
   "source": [
    "### 30. Implement a program to determine the type of a year (leap or common) and month (30 or 31 days) using elif statement"
   ]
  },
  {
   "cell_type": "code",
   "execution_count": 105,
   "id": "dfc5e59f-bf0a-43bc-828e-92bc81f37c31",
   "metadata": {},
   "outputs": [
    {
     "name": "stdin",
     "output_type": "stream",
     "text": [
      "Enter year:  2024\n",
      "Enter month name:  may\n"
     ]
    },
    {
     "name": "stdout",
     "output_type": "stream",
     "text": [
      "May has 31 days\n"
     ]
    }
   ],
   "source": [
    "\n",
    "# 30. Determine the type of year and number of days in the month\n",
    "year = int(input(\"Enter year: \"))\n",
    "month = input(\"Enter month name: \").lower()\n",
    "\n",
    "# Leap year check\n",
    "if (year % 4 == 0 and year % 100 != 0) or (year % 400 == 0):\n",
    "    leap_year = True\n",
    "else:\n",
    "    leap_year = False\n",
    "\n",
    "# Days in a month\n",
    "if month in ['january', 'march', 'may', 'july', 'august', 'october', 'december']:\n",
    "    print(f\"{month.capitalize()} has 31 days\")\n",
    "elif month in ['april', 'june', 'september', 'november']:\n",
    "    print(f\"{month.capitalize()} has 30 days\")\n",
    "elif month == 'february':\n",
    "    if leap_year:\n",
    "        print(f\"February has 29 days (Leap Year)\")\n",
    "    else:\n",
    "        print(f\"February has 28 days\")\n",
    "else:\n",
    "    print(\"Invalid month name\")"
   ]
  },
  {
   "cell_type": "code",
   "execution_count": null,
   "id": "1d707e91-3ec8-480f-bfe8-95750539f0c0",
   "metadata": {},
   "outputs": [],
   "source": []
  },
  {
   "cell_type": "markdown",
   "id": "82243843-c3bc-4197-a100-b708bdf84660",
   "metadata": {},
   "source": [
    "## Basic Level:"
   ]
  },
  {
   "cell_type": "markdown",
   "id": "019c2d83-b4b4-4a93-889b-97e47427ece9",
   "metadata": {},
   "source": [
    "### 1. Write a Python program that checks if a given number is positive, negative, or zero.\n"
   ]
  },
  {
   "cell_type": "code",
   "execution_count": 28,
   "id": "56df5a8d-0be2-4702-88a0-400f97543529",
   "metadata": {},
   "outputs": [
    {
     "name": "stdin",
     "output_type": "stream",
     "text": [
      "Enter a number:  3\n"
     ]
    },
    {
     "name": "stdout",
     "output_type": "stream",
     "text": [
      "Positive\n"
     ]
    }
   ],
   "source": [
    "num = int(input(\"Enter a number: \"))\n",
    "if num > 0:\n",
    "    print(\"Positive\")\n",
    "else:\n",
    "    print(\"Negative\")\n"
   ]
  },
  {
   "cell_type": "markdown",
   "id": "27b02274-bf24-4ed0-adb6-7c437c46b791",
   "metadata": {},
   "source": [
    "### 2. Create a program to determine if a person is eligible to vote based on their age.\n",
    "\n"
   ]
  },
  {
   "cell_type": "code",
   "execution_count": 30,
   "id": "ed54adc8-5c6f-4067-82ff-3ced60487bfa",
   "metadata": {},
   "outputs": [
    {
     "name": "stdin",
     "output_type": "stream",
     "text": [
      "Enter age:  45\n"
     ]
    },
    {
     "name": "stdout",
     "output_type": "stream",
     "text": [
      "Eligible to vote\n"
     ]
    }
   ],
   "source": [
    "age = int(input(\"Enter age: \"))\n",
    "if age >= 18:\n",
    "    print(\"Eligible to vote\")\n",
    "else:\n",
    "    print(\"Not eligible to vote\")\n"
   ]
  },
  {
   "cell_type": "markdown",
   "id": "720b29a0-c9c6-4d7b-a85d-1eeebc90647e",
   "metadata": {},
   "source": [
    "### 3. Write a program to find the maximum of two given numbers using conditional statements.\n",
    "\n"
   ]
  },
  {
   "cell_type": "code",
   "execution_count": 32,
   "id": "7d599d6b-8af3-422c-afbb-d53d63eaec70",
   "metadata": {},
   "outputs": [
    {
     "name": "stdin",
     "output_type": "stream",
     "text": [
      "Enter two numbers:  3 34\n"
     ]
    },
    {
     "name": "stdout",
     "output_type": "stream",
     "text": [
      "Maximum: 34\n"
     ]
    }
   ],
   "source": [
    "a, b = map(int, input(\"Enter two numbers: \").split())\n",
    "if a > b:\n",
    "    print(\"Maximum:\", a)\n",
    "else:\n",
    "    print(\"Maximum:\", b)\n"
   ]
  },
  {
   "cell_type": "markdown",
   "id": "7aeec112-9149-4ea9-9f7a-97d692096d99",
   "metadata": {},
   "source": [
    "### 4. Develop a program that calculates the grade of a student based on their exam score.\n",
    "\n"
   ]
  },
  {
   "cell_type": "code",
   "execution_count": 26,
   "id": "1832cd7c-1c68-45b7-9052-d8d1d03108e2",
   "metadata": {},
   "outputs": [
    {
     "name": "stdin",
     "output_type": "stream",
     "text": [
      "Enter score:  20\n"
     ]
    },
    {
     "name": "stdout",
     "output_type": "stream",
     "text": [
      "Grade: F\n"
     ]
    }
   ],
   "source": [
    "score = int(input(\"Enter score: \"))\n",
    "if score >= 90:\n",
    "    print(\"Grade: A\")\n",
    "elif score >= 80:\n",
    "    print(\"Grade: B\")\n",
    "elif score >= 70:\n",
    "    print(\"Grade: C\")\n",
    "elif score >= 60:\n",
    "    print(\"Grade: D\")\n",
    "else:\n",
    "    print(\"Grade: F\")\n"
   ]
  },
  {
   "cell_type": "markdown",
   "id": "06c3a271-7cd0-4025-9c26-a3bbd29c477d",
   "metadata": {},
   "source": [
    "### 5. Create a program that checks if a year is a leap year or not.\n",
    "\n"
   ]
  },
  {
   "cell_type": "code",
   "execution_count": 34,
   "id": "84405a5a-d87f-4865-a41f-74c514a203ae",
   "metadata": {},
   "outputs": [
    {
     "name": "stdin",
     "output_type": "stream",
     "text": [
      "Enter a year:  2025\n"
     ]
    },
    {
     "name": "stdout",
     "output_type": "stream",
     "text": [
      "Not a Leap Year\n"
     ]
    }
   ],
   "source": [
    "year = int(input(\"Enter a year: \"))\n",
    "if (year % 4 == 0 and year % 100 != 0) or (year % 400 == 0):\n",
    "    print(\"Leap Year\")\n",
    "else:\n",
    "    print(\"Not a Leap Year\")\n"
   ]
  },
  {
   "cell_type": "markdown",
   "id": "84f80c78-ea21-424c-9982-3659222177fa",
   "metadata": {},
   "source": [
    "### 6. Write a program to classify a triangle based on its sides' lengths.\n",
    "\n"
   ]
  },
  {
   "cell_type": "code",
   "execution_count": 44,
   "id": "8a2fd284-a90c-4fd9-bfa3-898006cf312b",
   "metadata": {},
   "outputs": [
    {
     "name": "stdout",
     "output_type": "stream",
     "text": [
      "Sides: (3, 3, 3) -> Equilateral Triangle\n",
      "Sides: (3, 4, 5) -> Scalene Triangle\n",
      "Sides: (5, 5, 8) -> Isosceles Triangle\n",
      "Sides: (1, 2, 3) -> Not a valid triangle\n"
     ]
    }
   ],
   "source": [
    "def classify_triangle(a, b, c):\n",
    "    if a <= 0 or b <= 0 or c <= 0:\n",
    "        return \"Invalid side lengths\"\n",
    "    \n",
    "    if a + b <= c or a + c <= b or b + c <= a:\n",
    "        return \"Not a valid triangle\"\n",
    "    \n",
    "    if a == b == c:\n",
    "        return \"Equilateral Triangle\"\n",
    "    elif a == b or b == c or a == c:\n",
    "        return \"Isosceles Triangle\"\n",
    "    else:\n",
    "        return \"Scalene Triangle\"\n",
    "\n",
    "# Example usage:\n",
    "sides = [(3, 3, 3), (3, 4, 5), (5, 5, 8), (1, 2, 3)]\n",
    "for s in sides:\n",
    "    print(f\"Sides: {s} -> {classify_triangle(*s)}\")\n"
   ]
  },
  {
   "cell_type": "markdown",
   "id": "ce7829a3-444f-49e8-9844-2a9633e032eb",
   "metadata": {},
   "source": [
    "### 7. Build a program that determines the largest of three given numbers.\n",
    "\n"
   ]
  },
  {
   "cell_type": "code",
   "execution_count": 36,
   "id": "42dd566b-9e8b-49d3-96fa-18be59906f1b",
   "metadata": {},
   "outputs": [
    {
     "name": "stdin",
     "output_type": "stream",
     "text": [
      "Enter three numbers:  2 5 2\n"
     ]
    },
    {
     "name": "stdout",
     "output_type": "stream",
     "text": [
      "Largest: 5\n"
     ]
    }
   ],
   "source": [
    "a, b, c = map(int, input(\"Enter three numbers: \").split())\n",
    "if a > b and a > c:\n",
    "    print(\"Largest:\", a)\n",
    "elif b > c:\n",
    "    print(\"Largest:\", b)\n",
    "else:\n",
    "    print(\"Largest:\", c)\n"
   ]
  },
  {
   "cell_type": "markdown",
   "id": "b50e6d24-e7f1-42c4-a720-5c018a81f211",
   "metadata": {},
   "source": [
    "### 8. Develop a program that checks whether a character is a vowel or a consonant.\n",
    "\n"
   ]
  },
  {
   "cell_type": "code",
   "execution_count": 38,
   "id": "d8dd65b0-3399-4cf0-af0c-383f2403e7e9",
   "metadata": {},
   "outputs": [
    {
     "name": "stdin",
     "output_type": "stream",
     "text": [
      "Enter a character:  t\n"
     ]
    },
    {
     "name": "stdout",
     "output_type": "stream",
     "text": [
      "Consonant\n"
     ]
    }
   ],
   "source": [
    "char = input(\"Enter a character: \").lower()\n",
    "if char in \"aeiou\":\n",
    "    print(\"Vowel\")\n",
    "else:\n",
    "    print(\"Consonant\")\n"
   ]
  },
  {
   "cell_type": "markdown",
   "id": "c034d275-fbd9-4f0e-a96a-e3424fc488e5",
   "metadata": {},
   "source": [
    "### 9. Create a program to calculate the total cost of a shopping cart based on discounts.\n",
    "\n"
   ]
  },
  {
   "cell_type": "code",
   "execution_count": 40,
   "id": "7c46b2df-7d03-4521-9717-3254fc30f120",
   "metadata": {},
   "outputs": [
    {
     "name": "stdout",
     "output_type": "stream",
     "text": [
      "Shopping Cart:\n",
      "Apple - $2 x 5\n",
      "Milk - $3 x 2\n",
      "Bread - $4 x 1\n",
      "Total after discount: $20.00\n"
     ]
    }
   ],
   "source": [
    "class ShoppingCart:\n",
    "    def __init__(self):\n",
    "        self.items = []\n",
    "    \n",
    "    def add_item(self, name, price, quantity):\n",
    "        self.items.append({\"name\": name, \"price\": price, \"quantity\": quantity})\n",
    "    \n",
    "    def calculate_total(self):\n",
    "        total = sum(item['price'] * item['quantity'] for item in self.items)\n",
    "        discount = self.apply_discount(total)\n",
    "        return total - discount\n",
    "    \n",
    "    def apply_discount(self, total):\n",
    "        if total > 100:  # 10% discount for orders above $100\n",
    "            return total * 0.10\n",
    "        elif total > 50:  # 5% discount for orders above $50\n",
    "            return total * 0.05\n",
    "        return 0\n",
    "    \n",
    "    def display_cart(self):\n",
    "        print(\"Shopping Cart:\")\n",
    "        for item in self.items:\n",
    "            print(f\"{item['name']} - ${item['price']} x {item['quantity']}\")\n",
    "        print(f\"Total after discount: ${self.calculate_total():.2f}\")\n",
    "\n",
    "# Example usage:\n",
    "cart = ShoppingCart()\n",
    "cart.add_item(\"Apple\", 2, 5)\n",
    "cart.add_item(\"Milk\", 3, 2)\n",
    "cart.add_item(\"Bread\", 4, 1)\n",
    "cart.display_cart()\n"
   ]
  },
  {
   "cell_type": "markdown",
   "id": "32be9327-0946-434c-9baf-24210eb5919e",
   "metadata": {},
   "source": [
    "### 10. Write a program that checks if a given number is even or odd"
   ]
  },
  {
   "cell_type": "code",
   "execution_count": 42,
   "id": "91fb2508-952d-4e1b-930b-0cdcd0fe87da",
   "metadata": {},
   "outputs": [
    {
     "name": "stdin",
     "output_type": "stream",
     "text": [
      "Enter a number:  5\n"
     ]
    },
    {
     "name": "stdout",
     "output_type": "stream",
     "text": [
      "Odd\n"
     ]
    }
   ],
   "source": [
    "num = int(input(\"Enter a number: \"))\n",
    "if num % 2 == 0:\n",
    "    print(\"Even\")\n",
    "else:\n",
    "    print(\"Odd\")\n"
   ]
  },
  {
   "cell_type": "markdown",
   "id": "d08e98f2-cba7-4b95-9039-f7295aa29ca0",
   "metadata": {},
   "source": [
    "## Intermediate Level:"
   ]
  },
  {
   "cell_type": "markdown",
   "id": "655cc56a-0768-4bf4-a8c2-1261d394a8dc",
   "metadata": {},
   "source": [
    "### 11. Write a program that calculates the roots of a quadratic equation .\n",
    "\n"
   ]
  },
  {
   "cell_type": "code",
   "execution_count": 56,
   "id": "bff5638d-e0df-4fc9-936a-8f824813128d",
   "metadata": {},
   "outputs": [
    {
     "name": "stdin",
     "output_type": "stream",
     "text": [
      "Enter coefficients a, b, c:  2 4 45\n"
     ]
    },
    {
     "name": "stdout",
     "output_type": "stream",
     "text": [
      "Roots: ((-1+4.636809247747852j), (-1-4.636809247747852j))\n"
     ]
    }
   ],
   "source": [
    "import cmath\n",
    "\n",
    "def quadratic_roots(a, b, c):\n",
    "    d = cmath.sqrt(b**2 - 4*a*c)  # Discriminant\n",
    "    root1 = (-b + d) / (2 * a)\n",
    "    root2 = (-b - d) / (2 * a)\n",
    "    return root1, root2\n",
    "\n",
    "a, b, c = map(float, input(\"Enter coefficients a, b, c: \").split())\n",
    "print(\"Roots:\", quadratic_roots(a, b, c))\n"
   ]
  },
  {
   "cell_type": "markdown",
   "id": "39bd039a-0f9e-4b9a-bd71-4412da7e2b68",
   "metadata": {},
   "source": [
    "### 12. Create a program that determines the day of the week based on the day number (1-7)."
   ]
  },
  {
   "cell_type": "code",
   "execution_count": 59,
   "id": "9dfced65-a866-454c-904a-4da3803c129d",
   "metadata": {},
   "outputs": [
    {
     "name": "stdin",
     "output_type": "stream",
     "text": [
      "Enter day number (1-7):  6\n"
     ]
    },
    {
     "name": "stdout",
     "output_type": "stream",
     "text": [
      "Day: Saturday\n"
     ]
    }
   ],
   "source": [
    "def day_of_week(n):\n",
    "    days = [\"Monday\", \"Tuesday\", \"Wednesday\", \"Thursday\", \"Friday\", \"Saturday\", \"Sunday\"]\n",
    "    return days[n-1] if 1 <= n <= 7 else \"Invalid day number\"\n",
    "\n",
    "n = int(input(\"Enter day number (1-7): \"))\n",
    "print(\"Day:\", day_of_week(n))\n"
   ]
  },
  {
   "cell_type": "markdown",
   "id": "afaebc90-d0f0-49c9-8085-3274200744b5",
   "metadata": {},
   "source": [
    "### 13. Develop a program that calculates the factorial of a given number using recursion."
   ]
  },
  {
   "cell_type": "code",
   "execution_count": 62,
   "id": "3d112c75-47b1-49d2-ae8b-cad853d04b79",
   "metadata": {},
   "outputs": [
    {
     "name": "stdin",
     "output_type": "stream",
     "text": [
      "Enter a number:  8\n"
     ]
    },
    {
     "name": "stdout",
     "output_type": "stream",
     "text": [
      "Factorial: 40320\n"
     ]
    }
   ],
   "source": [
    "def factorial(n):\n",
    "    return 1 if n == 0 else n * factorial(n - 1)\n",
    "\n",
    "n = int(input(\"Enter a number: \"))\n",
    "print(\"Factorial:\", factorial(n))\n"
   ]
  },
  {
   "cell_type": "markdown",
   "id": "97e52bc2-d6f3-46a7-b554-45bb222de373",
   "metadata": {},
   "source": [
    "### 14. Write a program to find the largest among three numbers without using the `max()` function."
   ]
  },
  {
   "cell_type": "code",
   "execution_count": 65,
   "id": "6d65277f-891d-40d2-bf2b-52022efcdad3",
   "metadata": {},
   "outputs": [
    {
     "name": "stdin",
     "output_type": "stream",
     "text": [
      "Enter three numbers:  66 78 56\n"
     ]
    },
    {
     "name": "stdout",
     "output_type": "stream",
     "text": [
      "Largest: 78.0\n"
     ]
    }
   ],
   "source": [
    "def largest(a, b, c):\n",
    "    if a >= b and a >= c:\n",
    "        return a\n",
    "    elif b >= a and b >= c:\n",
    "        return b\n",
    "    else:\n",
    "        return c\n",
    "\n",
    "a, b, c = map(float, input(\"Enter three numbers: \").split())\n",
    "print(\"Largest:\", largest(a, b, c))\n"
   ]
  },
  {
   "cell_type": "markdown",
   "id": "06686985-6557-4158-a99d-8a1d05b8d834",
   "metadata": {},
   "source": [
    "### 15. Create a program that simulates a basic ATM transaction menu."
   ]
  },
  {
   "cell_type": "code",
   "execution_count": 68,
   "id": "a9cf2691-0072-4cab-968d-b013138e8d0b",
   "metadata": {},
   "outputs": [
    {
     "name": "stdout",
     "output_type": "stream",
     "text": [
      "\n",
      "ATM Menu:\n",
      "1. Check Balance\n",
      "2. Deposit\n",
      "3. Withdraw\n",
      "4. Exit\n"
     ]
    },
    {
     "name": "stdin",
     "output_type": "stream",
     "text": [
      "Enter your choice:  1\n"
     ]
    },
    {
     "name": "stdout",
     "output_type": "stream",
     "text": [
      "Balance: 1000\n",
      "\n",
      "ATM Menu:\n",
      "1. Check Balance\n",
      "2. Deposit\n",
      "3. Withdraw\n",
      "4. Exit\n"
     ]
    },
    {
     "name": "stdin",
     "output_type": "stream",
     "text": [
      "Enter your choice:  2\n",
      "Enter deposit amount:  44\n"
     ]
    },
    {
     "name": "stdout",
     "output_type": "stream",
     "text": [
      "Deposited successfully. New balance: 1044.0\n",
      "\n",
      "ATM Menu:\n",
      "1. Check Balance\n",
      "2. Deposit\n",
      "3. Withdraw\n",
      "4. Exit\n"
     ]
    },
    {
     "name": "stdin",
     "output_type": "stream",
     "text": [
      "Enter your choice:  1\n"
     ]
    },
    {
     "name": "stdout",
     "output_type": "stream",
     "text": [
      "Balance: 1044.0\n",
      "\n",
      "ATM Menu:\n",
      "1. Check Balance\n",
      "2. Deposit\n",
      "3. Withdraw\n",
      "4. Exit\n"
     ]
    },
    {
     "name": "stdin",
     "output_type": "stream",
     "text": [
      "Enter your choice:  3\n",
      "Enter withdrawal amount:  100\n"
     ]
    },
    {
     "name": "stdout",
     "output_type": "stream",
     "text": [
      "Withdrawal successful. Remaining balance: 944.0\n",
      "\n",
      "ATM Menu:\n",
      "1. Check Balance\n",
      "2. Deposit\n",
      "3. Withdraw\n",
      "4. Exit\n"
     ]
    },
    {
     "name": "stdin",
     "output_type": "stream",
     "text": [
      "Enter your choice:  1\n"
     ]
    },
    {
     "name": "stdout",
     "output_type": "stream",
     "text": [
      "Balance: 944.0\n",
      "\n",
      "ATM Menu:\n",
      "1. Check Balance\n",
      "2. Deposit\n",
      "3. Withdraw\n",
      "4. Exit\n"
     ]
    },
    {
     "name": "stdin",
     "output_type": "stream",
     "text": [
      "Enter your choice:  4\n"
     ]
    },
    {
     "name": "stdout",
     "output_type": "stream",
     "text": [
      "Thank you for using the ATM!\n"
     ]
    }
   ],
   "source": [
    "balance = 1000  # Initial balance\n",
    "\n",
    "def atm():\n",
    "    global balance\n",
    "    while True:\n",
    "        print(\"\\nATM Menu:\\n1. Check Balance\\n2. Deposit\\n3. Withdraw\\n4. Exit\")\n",
    "        choice = int(input(\"Enter your choice: \"))\n",
    "        \n",
    "        if choice == 1:\n",
    "            print(\"Balance:\", balance)\n",
    "        elif choice == 2:\n",
    "            amount = float(input(\"Enter deposit amount: \"))\n",
    "            balance += amount\n",
    "            print(\"Deposited successfully. New balance:\", balance)\n",
    "        elif choice == 3:\n",
    "            amount = float(input(\"Enter withdrawal amount: \"))\n",
    "            if amount <= balance:\n",
    "                balance -= amount\n",
    "                print(\"Withdrawal successful. Remaining balance:\", balance)\n",
    "            else:\n",
    "                print(\"Insufficient balance!\")\n",
    "        elif choice == 4:\n",
    "            print(\"Thank you for using the ATM!\")\n",
    "            break\n",
    "        else:\n",
    "            print(\"Invalid choice!\")\n",
    "\n",
    "atm()\n"
   ]
  },
  {
   "cell_type": "markdown",
   "id": "36de1592-cfbf-49d9-a038-91a7d9b71842",
   "metadata": {},
   "source": [
    "### 16. Build a program that checks if a given string is a palindrome or not."
   ]
  },
  {
   "cell_type": "code",
   "execution_count": 71,
   "id": "9bde596b-a0a5-4b57-a25a-fccab96bf95a",
   "metadata": {},
   "outputs": [
    {
     "name": "stdin",
     "output_type": "stream",
     "text": [
      "Enter a string:  sql\n"
     ]
    },
    {
     "name": "stdout",
     "output_type": "stream",
     "text": [
      "Not a palindrome\n"
     ]
    }
   ],
   "source": [
    "def is_palindrome(s):\n",
    "    return s == s[::-1]\n",
    "\n",
    "s = input(\"Enter a string: \")\n",
    "print(\"Palindrome\" if is_palindrome(s) else \"Not a palindrome\")\n"
   ]
  },
  {
   "cell_type": "markdown",
   "id": "50e0d351-01b2-4597-acbf-e8d7c78970f2",
   "metadata": {},
   "source": [
    "### 17. Write a program that calculates the average of a list of numbers, excluding the smallest and largest values."
   ]
  },
  {
   "cell_type": "code",
   "execution_count": 74,
   "id": "598d043f-816a-42d2-9a6a-0eed42993eef",
   "metadata": {},
   "outputs": [
    {
     "name": "stdin",
     "output_type": "stream",
     "text": [
      "Enter numbers separated by space:  44 56 78 65 879\n"
     ]
    },
    {
     "name": "stdout",
     "output_type": "stream",
     "text": [
      "Trimmed Average: 66.33333333333333\n"
     ]
    }
   ],
   "source": [
    "def trimmed_average(nums):\n",
    "    nums.sort()\n",
    "    return sum(nums[1:-1]) / (len(nums) - 2) if len(nums) > 2 else 0\n",
    "\n",
    "nums = list(map(float, input(\"Enter numbers separated by space: \").split()))\n",
    "print(\"Trimmed Average:\", trimmed_average(nums))\n"
   ]
  },
  {
   "cell_type": "markdown",
   "id": "fc62447e-a58f-48d2-b3df-2ab3b7f2eb49",
   "metadata": {},
   "source": [
    "### 18. Develop a program that converts a given temperature from Celsius to Fahrenheit."
   ]
  },
  {
   "cell_type": "code",
   "execution_count": 77,
   "id": "1a110af1-ae9f-4640-94c3-48fa50688e99",
   "metadata": {},
   "outputs": [
    {
     "name": "stdin",
     "output_type": "stream",
     "text": [
      "Enter temperature in Celsius:  99\n"
     ]
    },
    {
     "name": "stdout",
     "output_type": "stream",
     "text": [
      "Fahrenheit: 210.2\n"
     ]
    }
   ],
   "source": [
    "def celsius_to_fahrenheit(c):\n",
    "    return (c * 9/5) + 32\n",
    "\n",
    "c = float(input(\"Enter temperature in Celsius: \"))\n",
    "print(\"Fahrenheit:\", celsius_to_fahrenheit(c))\n"
   ]
  },
  {
   "cell_type": "markdown",
   "id": "89e2d2a4-6104-4d0a-9d54-d64511077738",
   "metadata": {},
   "source": [
    "### 19. Create a program that simulates a basic calculator for addition, subtraction, multiplication, and division."
   ]
  },
  {
   "cell_type": "code",
   "execution_count": 80,
   "id": "11e291c3-e0e1-49e2-b1ef-0a38f692b20e",
   "metadata": {},
   "outputs": [
    {
     "name": "stdin",
     "output_type": "stream",
     "text": [
      "Enter first number:  56\n",
      "Enter operation (+, -, *, /):  /\n",
      "Enter second number:  4\n"
     ]
    },
    {
     "name": "stdout",
     "output_type": "stream",
     "text": [
      "Result: 14.0\n"
     ]
    }
   ],
   "source": [
    "def calculator():\n",
    "    a = float(input(\"Enter first number: \"))\n",
    "    op = input(\"Enter operation (+, -, *, /): \")\n",
    "    b = float(input(\"Enter second number: \"))\n",
    "\n",
    "    if op == '+':\n",
    "        print(\"Result:\", a + b)\n",
    "    elif op == '-':\n",
    "        print(\"Result:\", a - b)\n",
    "    elif op == '*':\n",
    "        print(\"Result:\", a * b)\n",
    "    elif op == '/':\n",
    "        print(\"Result:\", a / b if b != 0 else \"Cannot divide by zero\")\n",
    "    else:\n",
    "        print(\"Invalid operator\")\n",
    "\n",
    "calculator()\n"
   ]
  },
  {
   "cell_type": "markdown",
   "id": "74a102d6-2da6-4264-b704-1ef0a578a6e4",
   "metadata": {},
   "source": [
    "### 20. Write a program that determines the roots of a cubic equation using the Cardano formula."
   ]
  },
  {
   "cell_type": "code",
   "execution_count": 82,
   "id": "d6833f78-ce76-4665-84e0-a0af032f8dd8",
   "metadata": {},
   "outputs": [
    {
     "name": "stdin",
     "output_type": "stream",
     "text": [
      "Enter coefficients a, b, c, d:  64 9 8 625\n"
     ]
    },
    {
     "name": "stdout",
     "output_type": "stream",
     "text": [
      "Roots: (-7.687569933800581+2.2136067125215404j)\n"
     ]
    }
   ],
   "source": [
    "import math\n",
    "import cmath\n",
    "\n",
    "def cubic_roots(a, b, c, d):\n",
    "    if a == 0:\n",
    "        return \"Not a cubic equation\"\n",
    "    \n",
    "    f = ((3*c/a) - ((b**2)/(a**2))) / 3\n",
    "    g = ((2*(b**3)/(a**3)) - (9*b*c/(a**2)) + (27*d/a)) / 27\n",
    "    h = ((g**2) / 4) + ((f**3) / 27)\n",
    "\n",
    "    if h > 0:\n",
    "        r = -(g/2) + math.sqrt(h)\n",
    "        s = cmath.exp(cmath.log(r, 3))\n",
    "        t = -(g/2) - math.sqrt(h)\n",
    "        u = cmath.exp(cmath.log(t, 3))\n",
    "        root1 = s + u - (b / (3*a))\n",
    "        return root1\n",
    "    elif h == 0 and f == 0 and g == 0:\n",
    "        root = -cmath.exp(cmath.log(d/a, 3))\n",
    "        return root\n",
    "    else:\n",
    "        i = math.sqrt(((g**2) / 4) - h)\n",
    "        j = cmath.exp(cmath.log(i, 3))\n",
    "        k = math.acos(-g / (2 * i))\n",
    "        m = math.cos(k/3)\n",
    "        n = math.sqrt(3) * math.sin(k/3)\n",
    "        p = -(b / (3*a))\n",
    "\n",
    "        root1 = 2*j*m + p\n",
    "        root2 = -j*(m + n) + p\n",
    "        root3 = -j*(m - n) + p\n",
    "        return root1, root2, root3\n",
    "\n",
    "a, b, c, d = map(float, input(\"Enter coefficients a, b, c, d: \").split())\n",
    "print(\"Roots:\", cubic_roots(a, b, c, d))\n"
   ]
  },
  {
   "cell_type": "markdown",
   "id": "e8fec475-dc00-4bff-a404-e1a39d0e8b46",
   "metadata": {},
   "source": [
    "## Advanced Level:"
   ]
  },
  {
   "cell_type": "markdown",
   "id": "f8ba6f1a-daad-448d-af01-2707d053331c",
   "metadata": {},
   "source": [
    "### 21. Create a program that calculates the income tax based on the user's income and tax brackets.\n",
    "\n"
   ]
  },
  {
   "cell_type": "code",
   "execution_count": 35,
   "id": "ac167d55-2432-4f74-9c33-7f3230bf0660",
   "metadata": {},
   "outputs": [],
   "source": [
    "import random\n",
    "import math\n",
    "\n",
    "def income_tax_calculator():\n",
    "    income = float(input(\"Enter your annual income: \"))\n",
    "    tax_brackets = [(10000, 0.1), (30000, 0.2), (70000, 0.3), (float('inf'), 0.4)]\n",
    "    tax = 0\n",
    "    prev_limit = 0\n",
    "    for limit, rate in tax_brackets:\n",
    "        if income > prev_limit:\n",
    "            taxable = min(income, limit) - prev_limit\n",
    "            tax += taxable * rate\n",
    "        prev_limit = limit\n",
    "    print(f\"Your income tax is: ${tax:.2f}\")"
   ]
  },
  {
   "cell_type": "markdown",
   "id": "b111a45a-3f40-4435-8c38-417e074b9e38",
   "metadata": {},
   "source": [
    "### 22. Write a program that simulates a rock-paper-scissors game against the computer."
   ]
  },
  {
   "cell_type": "code",
   "execution_count": 38,
   "id": "2f507a74-2633-41b1-a61a-60a98b5d4fb7",
   "metadata": {},
   "outputs": [],
   "source": [
    "def rock_paper_scissors():\n",
    "    choices = [\"rock\", \"paper\", \"scissors\"]\n",
    "    user_choice = input(\"Choose rock, paper, or scissors: \").lower()\n",
    "    computer_choice = random.choice(choices)\n",
    "    print(f\"Computer chose: {computer_choice}\")\n",
    "    if user_choice == computer_choice:\n",
    "        print(\"It's a tie!\")\n",
    "    elif (user_choice == \"rock\" and computer_choice == \"scissors\") or \\\n",
    "         (user_choice == \"scissors\" and computer_choice == \"paper\") or \\\n",
    "         (user_choice == \"paper\" and computer_choice == \"rock\"):\n",
    "        print(\"You win!\")\n",
    "    else:\n",
    "        print(\"Computer wins!\")"
   ]
  },
  {
   "cell_type": "markdown",
   "id": "1bb0f8e1-8c0c-4586-bd71-645fc242ba48",
   "metadata": {},
   "source": [
    "### 23. Develop a program that generates a random password based on user preferences (length, complexity)."
   ]
  },
  {
   "cell_type": "code",
   "execution_count": 41,
   "id": "bfd369f4-14e3-4928-a97c-b82213bb8e6b",
   "metadata": {},
   "outputs": [],
   "source": [
    "def password_generator():\n",
    "    length = int(input(\"Enter password length: \"))\n",
    "    chars = \"abcdefghijklmnopqrstuvwxyzABCDEFGHIJKLMNOPQRSTUVWXYZ0123456789!@#$%^&*()\"\n",
    "    password = \"\".join(random.choice(chars) for _ in range(length))\n",
    "    print(f\"Generated password: {password}\")"
   ]
  },
  {
   "cell_type": "markdown",
   "id": "291c6801-599f-4709-a5bc-a945023cb803",
   "metadata": {},
   "source": [
    "### 24. Create a program that implements a simple text-based adventure game with branching scenarios."
   ]
  },
  {
   "cell_type": "code",
   "execution_count": 44,
   "id": "6cc7048b-5ec0-495b-b921-e845751c4bc9",
   "metadata": {},
   "outputs": [],
   "source": [
    "def text_adventure():\n",
    "    print(\"You are in a dark forest. Do you go left or right?\")\n",
    "    choice = input(\"Type 'left' or 'right': \").lower()\n",
    "    if choice == \"left\":\n",
    "        print(\"You encounter a friendly elf who guides you home.\")\n",
    "    elif choice == \"right\":\n",
    "        print(\"You fall into a pit. Game over!\")\n",
    "    else:\n",
    "        print(\"Invalid choice, game ends.\")"
   ]
  },
  {
   "cell_type": "markdown",
   "id": "3c47e928-708c-45ab-a07a-41e162f2d86f",
   "metadata": {},
   "source": [
    "### 25. Build a program that solves a linear equation  for x, considering different cases."
   ]
  },
  {
   "cell_type": "code",
   "execution_count": 47,
   "id": "00490324-a401-4635-80a3-34c3d4b03507",
   "metadata": {},
   "outputs": [],
   "source": [
    "def solve_linear_equation():\n",
    "    a = float(input(\"Enter coefficient a: \"))\n",
    "    b = float(input(\"Enter coefficient b: \"))\n",
    "    if a == 0:\n",
    "        if b == 0:\n",
    "            print(\"Infinite solutions.\")\n",
    "        else:\n",
    "            print(\"No solution.\")\n",
    "    else:\n",
    "        x = -b / a\n",
    "        print(f\"Solution: x = {x}\")"
   ]
  },
  {
   "cell_type": "markdown",
   "id": "50652607-d7c2-4ac3-b2fa-804e129ce31b",
   "metadata": {},
   "source": [
    "### 26. Write a program that simulates a basic quiz game with multiple-choice questions and scoring."
   ]
  },
  {
   "cell_type": "code",
   "execution_count": 50,
   "id": "6e3960de-bc85-445b-8b2a-f6ff329ac153",
   "metadata": {},
   "outputs": [],
   "source": [
    "def quiz_game():\n",
    "    questions = {\"What is 2+2?\": \"4\", \"What is the capital of France?\": \"paris\"}\n",
    "    score = 0\n",
    "    for question, answer in questions.items():\n",
    "        user_answer = input(question + \" \").lower()\n",
    "        if user_answer == answer:\n",
    "            score += 1\n",
    "    print(f\"Your score: {score}/{len(questions)}\")"
   ]
  },
  {
   "cell_type": "markdown",
   "id": "632cf9bf-0215-41c3-aeb7-7b9c35a2e438",
   "metadata": {},
   "source": [
    "### 27. Develop a program that determines whether a given year is a prime number or not."
   ]
  },
  {
   "cell_type": "code",
   "execution_count": 53,
   "id": "f48cdac2-3e4f-4a25-b9fc-332a95cbf79a",
   "metadata": {},
   "outputs": [],
   "source": [
    "def is_prime():\n",
    "    num = int(input(\"Enter a number: \"))\n",
    "    if num < 2:\n",
    "        print(\"Not prime.\")\n",
    "        return\n",
    "    for i in range(2, int(math.sqrt(num)) + 1):\n",
    "        if num % i == 0:\n",
    "            print(\"Not prime.\")\n",
    "            return\n",
    "    print(\"Prime number!\")"
   ]
  },
  {
   "cell_type": "markdown",
   "id": "9c31d953-12d1-4db7-bfe5-6e39c11a0470",
   "metadata": {},
   "source": [
    "### 28. Create a program that sorts three numbers in ascending order using conditional statements."
   ]
  },
  {
   "cell_type": "code",
   "execution_count": 56,
   "id": "60847065-9c48-45e8-ac54-a75618a667f2",
   "metadata": {},
   "outputs": [],
   "source": [
    "def sort_three_numbers():\n",
    "    nums = [int(input(f\"Enter number {i+1}: \")) for i in range(3)]\n",
    "    nums.sort()\n",
    "    print(f\"Sorted numbers: {nums}\")"
   ]
  },
  {
   "cell_type": "markdown",
   "id": "b90ecc44-9ece-4c0f-b935-4d0def5be09e",
   "metadata": {},
   "source": [
    "### 29. Build a program that determines the roots of a quartic equation using numerical methods."
   ]
  },
  {
   "cell_type": "code",
   "execution_count": 59,
   "id": "5b0a27e5-690e-4972-9a6e-af434f978f78",
   "metadata": {},
   "outputs": [],
   "source": [
    "def quartic_roots():\n",
    "    print(\"Solving quartic equations numerically is complex and beyond this simple script.\")\n",
    "    print(\"Consider using numerical solvers like scipy.optimize in Python.\")\n"
   ]
  },
  {
   "cell_type": "markdown",
   "id": "7e8d7697-068b-44ed-90e3-36cd01fbbabe",
   "metadata": {},
   "source": [
    "### 30. Write a program that calculates the BMI (Body Mass Index) and provides health recommendations based on the user's input."
   ]
  },
  {
   "cell_type": "code",
   "execution_count": 62,
   "id": "5cee114b-b0d0-4401-80b4-256c03d0ed61",
   "metadata": {},
   "outputs": [],
   "source": [
    "def bmi_calculator():\n",
    "    weight = float(input(\"Enter weight (kg): \"))\n",
    "    height = float(input(\"Enter height (m): \"))\n",
    "    bmi = weight / (height ** 2)\n",
    "    print(f\"Your BMI: {bmi:.2f}\")\n",
    "    if bmi < 18.5:\n",
    "        print(\"Underweight\")\n",
    "    elif bmi < 24.9:\n",
    "        print(\"Normal weight\")\n",
    "    elif bmi < 29.9:\n",
    "        print(\"Overweight\")\n",
    "    else:\n",
    "        print(\"Obese\")"
   ]
  },
  {
   "cell_type": "code",
   "execution_count": 35,
   "id": "bb368dec-888a-4526-8346-7e635a1576b0",
   "metadata": {},
   "outputs": [
    {
     "name": "stdout",
     "output_type": "stream",
     "text": [
      "1. Income Tax Calculator\n",
      "2. Rock Paper Scissors\n",
      "3. Password Generator\n",
      "4. Text Adventure\n",
      "5. Solve Linear Equation\n",
      "6. Quiz Game\n",
      "7. Is Prime\n",
      "8. Sort Three Numbers\n",
      "9. Quartic Roots\n",
      "10. Bmi Calculator\n"
     ]
    },
    {
     "name": "stdin",
     "output_type": "stream",
     "text": [
      "Choose a program to run (1-10):  3\n",
      "Enter password length:  6\n"
     ]
    },
    {
     "name": "stdout",
     "output_type": "stream",
     "text": [
      "Generated password: ziFfJm\n"
     ]
    }
   ],
   "source": [
    "def main():\n",
    "    functions = [income_tax_calculator, rock_paper_scissors, password_generator, text_adventure,\n",
    "                 solve_linear_equation, quiz_game, is_prime, sort_three_numbers, quartic_roots, bmi_calculator]\n",
    "    for i, func in enumerate(functions, 1):\n",
    "        print(f\"{i}. {func.__name__.replace('_', ' ').title()}\")\n",
    "    choice = int(input(\"Choose a program to run (1-10): \"))\n",
    "    if 1 <= choice <= 10:\n",
    "        functions[choice - 1]()\n",
    "    else:\n",
    "        print(\"Invalid choice.\")\n",
    "\n",
    "if __name__ == \"__main__\":\n",
    "    main()"
   ]
  },
  {
   "cell_type": "markdown",
   "id": "f697175a-5986-479d-8368-290f91988267",
   "metadata": {},
   "source": [
    "## Challenge Level:"
   ]
  },
  {
   "cell_type": "markdown",
   "id": "c6f78ab4-fa82-4534-8b0d-823f0e1e757a",
   "metadata": {
    "jp-MarkdownHeadingCollapsed": true
   },
   "source": [
    "## 31. Create a program that validates a password based on complexity rules (length, characters, etc.)."
   ]
  },
  {
   "cell_type": "code",
   "execution_count": 37,
   "id": "1d47b031-d9a0-47be-a453-794d784e56b0",
   "metadata": {},
   "outputs": [
    {
     "name": "stdin",
     "output_type": "stream",
     "text": [
      "Enter a password:  Akshay@123\n"
     ]
    },
    {
     "name": "stdout",
     "output_type": "stream",
     "text": [
      "Password is valid.\n"
     ]
    }
   ],
   "source": [
    "import re\n",
    "\n",
    "def validate_password(password):\n",
    "    if len(password) < 8:\n",
    "        return \"Password must be at least 8 characters long.\"\n",
    "    if not re.search(r'[A-Z]', password):\n",
    "        return \"Password must contain at least one uppercase letter.\"\n",
    "    if not re.search(r'[a-z]', password):\n",
    "        return \"Password must contain at least one lowercase letter.\"\n",
    "    if not re.search(r'\\d', password):\n",
    "        return \"Password must contain at least one digit.\"\n",
    "    if not re.search(r'[@$!%*?&]', password):\n",
    "        return \"Password must contain at least one special character (@$!%*?&).\"\n",
    "    return \"Password is valid.\"\n",
    "\n",
    "password = input(\"Enter a password: \")\n",
    "print(validate_password(password))\n",
    "\r\n"
   ]
  },
  {
   "cell_type": "markdown",
   "id": "f76f1b69-de80-4f43-9e83-a8e4c0551017",
   "metadata": {},
   "source": [
    "## 32. Develop a program that performs matrix addition and subtraction based on user input."
   ]
  },
  {
   "cell_type": "code",
   "execution_count": 1,
   "id": "d555e771-44ca-45b4-8820-0cb8bce31324",
   "metadata": {},
   "outputs": [
    {
     "name": "stdin",
     "output_type": "stream",
     "text": [
      "Enter number of rows and columns:  3 3\n"
     ]
    },
    {
     "name": "stdout",
     "output_type": "stream",
     "text": [
      "Enter first matrix:\n"
     ]
    },
    {
     "name": "stdin",
     "output_type": "stream",
     "text": [
      " 1 3 5\n",
      " 2 4 6\n",
      " 7 9 11\n"
     ]
    },
    {
     "name": "stdout",
     "output_type": "stream",
     "text": [
      "Enter second matrix:\n"
     ]
    },
    {
     "name": "stdin",
     "output_type": "stream",
     "text": [
      " 19 23 15\n",
      " 23 6 9\n",
      " 18 19 20\n"
     ]
    },
    {
     "name": "stdout",
     "output_type": "stream",
     "text": [
      "\n",
      "Matrix Addition:\n",
      " [[20 26 20]\n",
      " [25 10 15]\n",
      " [25 28 31]]\n",
      "\n",
      "Matrix Subtraction:\n",
      " [[-18 -20 -10]\n",
      " [-21  -2  -3]\n",
      " [-11 -10  -9]]\n"
     ]
    }
   ],
   "source": [
    "import numpy as np\n",
    "\n",
    "def matrix_operations():\n",
    "    r, c = map(int, input(\"Enter number of rows and columns: \").split())\n",
    "    print(\"Enter first matrix:\")\n",
    "    A = np.array([list(map(int, input().split())) for _ in range(r)])\n",
    "    print(\"Enter second matrix:\")\n",
    "    B = np.array([list(map(int, input().split())) for _ in range(r)])\n",
    "    \n",
    "    print(\"\\nMatrix Addition:\\n\", A + B)\n",
    "    print(\"\\nMatrix Subtraction:\\n\", A - B)\n",
    "\n",
    "matrix_operations()\n"
   ]
  },
  {
   "cell_type": "markdown",
   "id": "9c813226-cd25-4021-96e9-6d5e64e1c458",
   "metadata": {},
   "source": [
    "## 33. Write a program that calculates the greatest common divisor (GCD) of two numbers using the Euclidean \n",
    "algorithm"
   ]
  },
  {
   "cell_type": "code",
   "execution_count": 3,
   "id": "71fd4a68-e495-4184-a4f5-72f3491dfc5b",
   "metadata": {},
   "outputs": [
    {
     "name": "stdin",
     "output_type": "stream",
     "text": [
      "Enter two numbers:  23 56\n"
     ]
    },
    {
     "name": "stdout",
     "output_type": "stream",
     "text": [
      "GCD: 1\n"
     ]
    }
   ],
   "source": [
    "def gcd(a, b):\n",
    "    while b:\n",
    "        a, b = b, a % b\n",
    "    return a\n",
    "\n",
    "a, b = map(int, input(\"Enter two numbers: \").split())\n",
    "print(\"GCD:\", gcd(a, b))\n"
   ]
  },
  {
   "cell_type": "markdown",
   "id": "97e442cc-c1c7-49f8-8753-5462d290467a",
   "metadata": {},
   "source": [
    "## 34. Build a program that performs matrix multiplication using nested loops and conditional statements.\n"
   ]
  },
  {
   "cell_type": "code",
   "execution_count": 5,
   "id": "0199255f-0a43-488e-9609-8f2a6a5b8daf",
   "metadata": {},
   "outputs": [
    {
     "name": "stdin",
     "output_type": "stream",
     "text": [
      "Enter rows and columns of first matrix:  3 3\n",
      "Enter rows and columns of second matrix:  2 2 \n"
     ]
    },
    {
     "name": "stdout",
     "output_type": "stream",
     "text": [
      "Matrix multiplication not possible.\n"
     ]
    }
   ],
   "source": [
    "def matrix_multiply():\n",
    "    r1, c1 = map(int, input(\"Enter rows and columns of first matrix: \").split())\n",
    "    r2, c2 = map(int, input(\"Enter rows and columns of second matrix: \").split())\n",
    "\n",
    "    if c1 != r2:\n",
    "        print(\"Matrix multiplication not possible.\")\n",
    "        return\n",
    "\n",
    "    print(\"Enter first matrix:\")\n",
    "    A = [list(map(int, input().split())) for _ in range(r1)]\n",
    "    \n",
    "    print(\"Enter second matrix:\")\n",
    "    B = [list(map(int, input().split())) for _ in range(r2)]\n",
    "\n",
    "    result = [[0] * c2 for _ in range(r1)]\n",
    "    for i in range(r1):\n",
    "        for j in range(c2):\n",
    "            for k in range(c1):\n",
    "                result[i][j] += A[i][k] * B[k][j]\n",
    "\n",
    "    print(\"\\nMatrix Multiplication Result:\")\n",
    "    for row in result:\n",
    "        print(*row)\n",
    "\n",
    "matrix_multiply()\n"
   ]
  },
  {
   "cell_type": "markdown",
   "id": "2c48b1e1-4515-471f-afdb-9463c368aff4",
   "metadata": {},
   "source": [
    "## 35. Create a program that simulates a basic text-based tic-tac-toe game against the computer.\n"
   ]
  },
  {
   "cell_type": "code",
   "execution_count": 10,
   "id": "5314b89f-911f-4c9f-a42c-dea34019b26a",
   "metadata": {},
   "outputs": [
    {
     "name": "stdout",
     "output_type": "stream",
     "text": [
      "  |   |  \n",
      "-----\n",
      "  |   |  \n",
      "-----\n",
      "  |   |  \n",
      "-----\n"
     ]
    },
    {
     "name": "stdin",
     "output_type": "stream",
     "text": [
      "Enter row and column (0-2):  0 0\n"
     ]
    },
    {
     "name": "stdout",
     "output_type": "stream",
     "text": [
      "X |   |  \n",
      "-----\n",
      "  |   |  \n",
      "-----\n",
      "  |   |  \n",
      "-----\n",
      "X |   |  \n",
      "-----\n",
      "  |   |  \n",
      "-----\n",
      "  | O |  \n",
      "-----\n"
     ]
    },
    {
     "name": "stdin",
     "output_type": "stream",
     "text": [
      "Enter row and column (0-2):  1 1\n"
     ]
    },
    {
     "name": "stdout",
     "output_type": "stream",
     "text": [
      "X |   |  \n",
      "-----\n",
      "  | X |  \n",
      "-----\n",
      "  | O |  \n",
      "-----\n",
      "X |   |  \n",
      "-----\n",
      "  | X |  \n",
      "-----\n",
      "  | O | O\n",
      "-----\n"
     ]
    },
    {
     "name": "stdin",
     "output_type": "stream",
     "text": [
      "Enter row and column (0-2):  2 2\n"
     ]
    },
    {
     "name": "stdout",
     "output_type": "stream",
     "text": [
      "X |   |  \n",
      "-----\n",
      "  | X |  \n",
      "-----\n",
      "  | O | X\n",
      "-----\n",
      "X wins!\n"
     ]
    }
   ],
   "source": [
    "import random\n",
    "\n",
    "def print_board(board):\n",
    "    for row in board:\n",
    "        print(\" | \".join(row))\n",
    "        print(\"-\" * 5)\n",
    "\n",
    "def check_winner(board, player):\n",
    "    for row in board:\n",
    "        if all(s == player for s in row):\n",
    "            return True\n",
    "    for col in zip(*board):\n",
    "        if all(s == player for s in col):\n",
    "            return True\n",
    "    if all(board[i][i] == player for i in range(3)) or all(board[i][2 - i] == player for i in range(3)):\n",
    "        return True\n",
    "    return False\n",
    "\n",
    "def tic_tac_toe():\n",
    "    board = [[\" \"]*3 for _ in range(3)]\n",
    "    for turn in range(9):\n",
    "        print_board(board)\n",
    "        player = \"X\" if turn % 2 == 0 else \"O\"\n",
    "        if player == \"X\":\n",
    "            row, col = map(int, input(\"Enter row and column (0-2): \").split())\n",
    "        else:\n",
    "            row, col = random.choice([(i, j) for i in range(3) for j in range(3) if board[i][j] == \" \"])\n",
    "        board[row][col] = player\n",
    "        if check_winner(board, player):\n",
    "            print_board(board)\n",
    "            print(f\"{player} wins!\")\n",
    "            return\n",
    "    print(\"It's a tie!\")\n",
    "\n",
    "tic_tac_toe()\n"
   ]
  },
  {
   "cell_type": "markdown",
   "id": "d13ace60-b996-4742-9f4b-a06bee1ebc15",
   "metadata": {},
   "source": [
    "## 36. Write a program that generates Fibonacci numbers up to a specified term using iterative methods.\r\n"
   ]
  },
  {
   "cell_type": "code",
   "execution_count": 13,
   "id": "0732a6e2-f192-450f-85e0-5d235e7dafdb",
   "metadata": {},
   "outputs": [
    {
     "name": "stdin",
     "output_type": "stream",
     "text": [
      "Enter number of terms:  77\n"
     ]
    },
    {
     "name": "stdout",
     "output_type": "stream",
     "text": [
      "0 1 1 2 3 5 8 13 21 34 55 89 144 233 377 610 987 1597 2584 4181 6765 10946 17711 28657 46368 75025 121393 196418 317811 514229 832040 1346269 2178309 3524578 5702887 9227465 14930352 24157817 39088169 63245986 102334155 165580141 267914296 433494437 701408733 1134903170 1836311903 2971215073 4807526976 7778742049 12586269025 20365011074 32951280099 53316291173 86267571272 139583862445 225851433717 365435296162 591286729879 956722026041 1548008755920 2504730781961 4052739537881 6557470319842 10610209857723 17167680177565 27777890035288 44945570212853 72723460248141 117669030460994 190392490709135 308061521170129 498454011879264 806515533049393 1304969544928657 2111485077978050 3416454622906707 \n"
     ]
    }
   ],
   "source": [
    "def fibonacci(n):\n",
    "    a, b = 0, 1\n",
    "    for _ in range(n):\n",
    "        print(a, end=\" \")\n",
    "        a, b = b, a + b\n",
    "    print()\n",
    "\n",
    "n = int(input(\"Enter number of terms: \"))\n",
    "fibonacci(n)\n"
   ]
  },
  {
   "cell_type": "markdown",
   "id": "2974d011-d751-4257-8f32-fc70a2262345",
   "metadata": {},
   "source": [
    "## 37. Develop a program that calculates the nth term of the Fibonacci sequence using memoization.\r\n"
   ]
  },
  {
   "cell_type": "code",
   "execution_count": 16,
   "id": "820112f3-4a50-4b05-b384-e4896a62d196",
   "metadata": {},
   "outputs": [
    {
     "name": "stdin",
     "output_type": "stream",
     "text": [
      "Enter nth term:  4\n"
     ]
    },
    {
     "name": "stdout",
     "output_type": "stream",
     "text": [
      "3\n"
     ]
    }
   ],
   "source": [
    "def fibonacci_memo(n, memo={}):\n",
    "    if n in memo:\n",
    "        return memo[n]\n",
    "    if n <= 1:\n",
    "        return n\n",
    "    memo[n] = fibonacci_memo(n - 1, memo) + fibonacci_memo(n - 2, memo)\n",
    "    return memo[n]\n",
    "\n",
    "n = int(input(\"Enter nth term: \"))\n",
    "print(fibonacci_memo(n))\n"
   ]
  },
  {
   "cell_type": "markdown",
   "id": "7eca15f0-554f-4cf4-a1e7-9663db9787b2",
   "metadata": {},
   "source": [
    "## 38. Create a program that generates a calendar for a given month and year using conditional statements.\n"
   ]
  },
  {
   "cell_type": "code",
   "execution_count": 19,
   "id": "958c0f62-29d1-4022-9586-0f6154fd50a7",
   "metadata": {},
   "outputs": [
    {
     "name": "stdin",
     "output_type": "stream",
     "text": [
      "Enter year:  2025\n",
      "Enter month:  2\n"
     ]
    },
    {
     "name": "stdout",
     "output_type": "stream",
     "text": [
      "   February 2025\n",
      "Mo Tu We Th Fr Sa Su\n",
      "                1  2\n",
      " 3  4  5  6  7  8  9\n",
      "10 11 12 13 14 15 16\n",
      "17 18 19 20 21 22 23\n",
      "24 25 26 27 28\n",
      "\n"
     ]
    }
   ],
   "source": [
    "import calendar\n",
    "\n",
    "year = int(input(\"Enter year: \"))\n",
    "month = int(input(\"Enter month: \"))\n",
    "\n",
    "print(calendar.month(year, month))\n"
   ]
  },
  {
   "cell_type": "markdown",
   "id": "8165b1ae-7c08-4994-b062-cdf5c19032c3",
   "metadata": {},
   "source": [
    "## 39. Build a program that simulates a basic text-based blackjack game against the computer.\r\n"
   ]
  },
  {
   "cell_type": "code",
   "execution_count": 22,
   "id": "301f5561-b05d-47b5-82c2-ec0b458b9612",
   "metadata": {},
   "outputs": [
    {
     "name": "stdout",
     "output_type": "stream",
     "text": [
      "Your score: 12, Dealer's face-up card: 10\n"
     ]
    },
    {
     "name": "stdin",
     "output_type": "stream",
     "text": [
      "Hit or Stand? (h/s):  h\n"
     ]
    },
    {
     "name": "stdout",
     "output_type": "stream",
     "text": [
      "Your score: 22\n",
      "Dealer's final score: 20\n",
      "You Bust! Dealer Wins.\n"
     ]
    }
   ],
   "source": [
    "import random\n",
    "\n",
    "def draw_card():\n",
    "    return random.choice([2, 3, 4, 5, 6, 7, 8, 9, 10, 10, 10, 10, 11])\n",
    "\n",
    "def blackjack():\n",
    "    player_score, dealer_score = draw_card() + draw_card(), draw_card()\n",
    "    print(f\"Your score: {player_score}, Dealer's face-up card: {dealer_score}\")\n",
    "    \n",
    "    while player_score < 21:\n",
    "        move = input(\"Hit or Stand? (h/s): \").lower()\n",
    "        if move == 'h':\n",
    "            player_score += draw_card()\n",
    "            print(f\"Your score: {player_score}\")\n",
    "        else:\n",
    "            break\n",
    "\n",
    "    while dealer_score < 17:\n",
    "        dealer_score += draw_card()\n",
    "\n",
    "    print(f\"Dealer's final score: {dealer_score}\")\n",
    "\n",
    "    if player_score > 21:\n",
    "        print(\"You Bust! Dealer Wins.\")\n",
    "    elif dealer_score > 21 or player_score > dealer_score:\n",
    "        print(\"You Win!\")\n",
    "    else:\n",
    "        print(\"Dealer Wins!\")\n",
    "\n",
    "blackjack()\n"
   ]
  },
  {
   "cell_type": "markdown",
   "id": "fa726e27-6487-49bc-8b50-e965be4dbcfb",
   "metadata": {},
   "source": [
    "## 40. Write a program that generates the prime factors of a given number using trial division.\r\n"
   ]
  },
  {
   "cell_type": "code",
   "execution_count": 25,
   "id": "84bec26f-22e8-476a-9ca3-1d6f13ce2eb0",
   "metadata": {},
   "outputs": [
    {
     "name": "stdin",
     "output_type": "stream",
     "text": [
      "Enter a number:  45\n"
     ]
    },
    {
     "name": "stdout",
     "output_type": "stream",
     "text": [
      "Prime factors: [3, 3, 5]\n"
     ]
    }
   ],
   "source": [
    "def prime_factors(n):\n",
    "    factors = []\n",
    "    while n % 2 == 0:\n",
    "        factors.append(2)\n",
    "        n //= 2\n",
    "    for i in range(3, int(n ** 0.5) + 1, 2):\n",
    "        while n % i == 0:\n",
    "            factors.append(i)\n",
    "            n //= i\n",
    "    if n > 2:\n",
    "        factors.append(n)\n",
    "    return factors\n",
    "\n",
    "num = int(input(\"Enter a number: \"))\n",
    "print(\"Prime factors:\", prime_factors(num))\n"
   ]
  },
  {
   "cell_type": "code",
   "execution_count": null,
   "id": "0550d847-03ef-49a0-bb98-0ed62b47e03b",
   "metadata": {},
   "outputs": [],
   "source": []
  },
  {
   "cell_type": "code",
   "execution_count": null,
   "id": "1a187744-9661-4383-a160-debca8c7f783",
   "metadata": {},
   "outputs": [],
   "source": []
  },
  {
   "cell_type": "code",
   "execution_count": null,
   "id": "85995319-c624-4c49-85b2-064f0b0aa4f8",
   "metadata": {},
   "outputs": [],
   "source": []
  },
  {
   "cell_type": "code",
   "execution_count": null,
   "id": "ec640480-a3e0-4986-93ad-e171dbe39465",
   "metadata": {},
   "outputs": [],
   "source": []
  },
  {
   "cell_type": "code",
   "execution_count": null,
   "id": "b4d2262f-c5bb-467a-b00f-4954a2e1546c",
   "metadata": {},
   "outputs": [],
   "source": []
  },
  {
   "cell_type": "code",
   "execution_count": null,
   "id": "8a565a27-e856-4490-9dcd-318d3bc4713f",
   "metadata": {},
   "outputs": [],
   "source": []
  }
 ],
 "metadata": {
  "kernelspec": {
   "display_name": "Python 3 (ipykernel)",
   "language": "python",
   "name": "python3"
  },
  "language_info": {
   "codemirror_mode": {
    "name": "ipython",
    "version": 3
   },
   "file_extension": ".py",
   "mimetype": "text/x-python",
   "name": "python",
   "nbconvert_exporter": "python",
   "pygments_lexer": "ipython3",
   "version": "3.12.7"
  }
 },
 "nbformat": 4,
 "nbformat_minor": 5
}
